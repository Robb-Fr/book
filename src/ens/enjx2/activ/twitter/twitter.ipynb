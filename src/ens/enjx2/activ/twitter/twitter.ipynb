{
 "cells": [
  {
   "cell_type": "markdown",
   "id": "fd5c4972-ce6f-4c0a-a86e-e0e3a28af7d6",
   "metadata": {
    "slideshow": {
     "slide_type": "slide"
    }
   },
   "source": [
    "# Analyse de tweets"
   ]
  },
  {
   "cell_type": "code",
   "execution_count": null,
   "id": "447bd094",
   "metadata": {
    "slideshow": {
     "slide_type": "slide"
    }
   },
   "outputs": [],
   "source": [
    "import os\n",
    "import json\n",
    "import collections"
   ]
  },
  {
   "cell_type": "code",
   "execution_count": null,
   "id": "d9e66be5",
   "metadata": {},
   "outputs": [],
   "source": [
    "print(os.getcwd())"
   ]
  },
  {
   "cell_type": "code",
   "execution_count": null,
   "id": "7ac3d689-6496-46d0-9da6-afb6cf67ac4c",
   "metadata": {},
   "outputs": [],
   "source": [
    "## pour se mettre dans le bon répértoire \n",
    "os.chdir(\"../../../../../Desktop/twitter\")\n",
    "print(os.getcwd())"
   ]
  },
  {
   "cell_type": "markdown",
   "id": "301cf384-0ab8-46d1-9b6a-7bc396ac59d1",
   "metadata": {},
   "source": [
    "Vous pouvez commencer par ouvrir le fichier 'tweet1.json' avec un éditeur de texte tel que Notepad++, puis avec Firefox. Ce fichier contient les informations relatives à 1 tweet. Parvenez-vous à répondre aux questions suivante: \n",
    "* Quel est le texte du tweet ?\n",
    "* Quand a été émis ce tweet ?\n",
    "* Qui est l'auteur de ce tweet ?\n",
    "* Ce tweet est-il un retweet?"
   ]
  },
  {
   "cell_type": "markdown",
   "id": "19215c2a-ce0c-4236-8672-7df2fc7648ae",
   "metadata": {},
   "source": [
    "On va maintenant répondre à ces questions dans python:"
   ]
  },
  {
   "cell_type": "code",
   "execution_count": null,
   "id": "4d98cde1-8e4d-46d1-906c-9507b0be697f",
   "metadata": {},
   "outputs": [],
   "source": [
    "fichier = \"tweet1.json\"\n",
    "with open(fichier) as f:\n",
    "    for line in f:\n",
    "        tweet = json.loads(line)\n",
    "        print(\"texte:\", tweet[\"text\"])\n",
    "        print(\"Date:\", tweet[\"created_at\"])\n",
    "        print(\"Auteur-ice:\", tweet[\"user\"][\"name\"])\n",
    "        print(\"Retweet: \",\"retweeted_status\" in tweet)"
   ]
  },
  {
   "cell_type": "markdown",
   "id": "cac750a5-00b2-4ba6-b9fd-886b92243ce6",
   "metadata": {},
   "source": [
    "On va maintenant examiner le message orginal qui a été retweeté et qui contenait une citation.\n",
    "* Qui l'a écrit ? \n",
    "* Quand a-t-il été écrit ?\n",
    "* Quelle est cette citation ?\n",
    "* Qui l'a-t-il écrite ? "
   ]
  },
  {
   "cell_type": "code",
   "execution_count": null,
   "id": "730ebb60-3c07-40ba-b953-89a976d33bc0",
   "metadata": {},
   "outputs": [],
   "source": [
    "fichier = \"tweet1.json\"\n",
    "with open(fichier) as f:\n",
    "    for line in f:\n",
    "        tweet = json.loads(line)\n",
    "        print(\"Auteur-ice:\", tweet[\"retweeted_status\"][\"user\"][\"name\"])\n",
    "        print(\"Date:\", tweet[\"retweeted_status\"][\"created_at\"])\n",
    "        print(\"Citation:\", tweet[\"retweeted_status\"][\"quoted_status\"][\"text\"])\n",
    "        print(\"Par:\", tweet[\"retweeted_status\"][\"quoted_status\"][\"user\"][\"name\"])\n",
    "        print(\"Le: \", tweet[\"retweeted_status\"][\"quoted_status\"][\"created_at\"])"
   ]
  },
  {
   "cell_type": "markdown",
   "id": "0127c22d-fc11-4ab0-b8f9-9065e519ec64",
   "metadata": {},
   "source": [
    "On va maintenant regarder des tweets qui ont tous été écrits pendant la même minute et qui se trouvent dans le fichier 'minute.json' que vous pouvez ouvrir avec votre éditeur de texte. \n",
    "* Quand ces tweets ont-il été écrits ?\n",
    "* Combient y en a-t-il ? "
   ]
  },
  {
   "cell_type": "code",
   "execution_count": null,
   "id": "fb1f9948-789e-4466-91e6-c1e9df21ab86",
   "metadata": {},
   "outputs": [],
   "source": [
    "fichier = \"minute.json\"\n",
    "cnt = 0\n",
    "with open(fichier) as f:\n",
    "    for line in f:\n",
    "        try:\n",
    "            tweet = json.loads(line)\n",
    "        except Exception:\n",
    "            print(line)\n",
    "        cnt = cnt+1\n",
    "print (cnt, \"tweets, dont le dernier écrit le\", tweet[\"created_at\"])"
   ]
  },
  {
   "cell_type": "markdown",
   "id": "79e7a530-403d-48d6-b7ba-df6342292563",
   "metadata": {},
   "source": [
    "### Filtrage de tweets\n",
    "\n",
    "On va maintenant afficher tous les tweets qui mentionnent \"Biden\". Pour ceci on va passer en revue et traiter tous les tweets\n",
    "du fichier"
   ]
  },
  {
   "cell_type": "code",
   "execution_count": null,
   "id": "7aaae0b3-2bdd-467f-81cb-ad694389803e",
   "metadata": {},
   "outputs": [],
   "source": [
    "fichier = \"minute.json\" ## le nom du fichier\n",
    "cnt = 0\n",
    "def traitement(tweet): ## le traitement de chaque tweet\n",
    "    global cnt\n",
    "    if \"text\" in tweet:\n",
    "        if \"Biden\" in tweet[\"text\"]:\n",
    "            print(tweet[\"text\"])\n",
    "            cnt = cnt+1\n",
    "\n",
    "## on applique le traitement à chaque tweet du fichier\n",
    "with open (fichier) as f:\n",
    "    for line in f:\n",
    "        tweet = json.loads(line)\n",
    "        traitement(tweet)\n",
    "print(\"Il y a \",cnt, \"tweets\") "
   ]
  },
  {
   "cell_type": "markdown",
   "id": "844fa863",
   "metadata": {},
   "source": [
    "On va maintenant voir examiner les tweet qui ont été écris le 5 novembre 2020 entre 18 et 21 (heure américaine) et afficher ceux qui mentionnent Biden."
   ]
  },
  {
   "cell_type": "code",
   "execution_count": null,
   "id": "644bd06d-8754-41bb-bb81-3bb54de76879",
   "metadata": {
    "scrolled": true
   },
   "outputs": [],
   "source": [
    "cnt= 0\n",
    "interruption = False\n",
    "datadir = \"./data/2020\"\n",
    "\n",
    "def traitement(tweet): ## le traitement de chaque tweet\n",
    "    global cnt\n",
    "    if \"text\" in tweet:\n",
    "        if \"Biden\" in tweet[\"text\"]:\n",
    "            print(tweet[\"text\"])\n",
    "            cnt = cnt+1\n",
    "\n",
    "def parcours_tweet(jours, heures):\n",
    "    global interruption\n",
    "    interruption = False\n",
    "    for day in jours:\n",
    "        for hour in heures:\n",
    "            for minute in range(60): # pour les minutes 0 à 59\n",
    "                fichier = datadir + \"11/\" + format(day,'02d')+ \"/\" + format(hour,'02d') + \"/\" + format(minute,'02d')+\".json\"\n",
    "                if os.path.isfile(fichier):\n",
    "                    with open (fichier) as f:\n",
    "                        for line in f:\n",
    "                            tweet = json.loads(line)\n",
    "                            traitement(tweet)\n",
    "                            if interruption: \n",
    "                                return\n",
    "                else:\n",
    "                    print(fichier,\"introuvable\")\n",
    "    print(\"\\n\\n ----- Tous les fichiers ont été parcourus -----\")\n",
    "    return\n",
    "parcours_tweet(range(5,6), range(18,21)) ## parcourir tous les tweets du 4 novembre entre 18h et 21h\n",
    "print(\"Il y a \",cnt, \"tweets\") "
   ]
  },
  {
   "cell_type": "markdown",
   "id": "8ba23035",
   "metadata": {},
   "source": [
    "On va maintentant afficher les tweets écrits en français entre le 4 novembre entre 18h et 19h:"
   ]
  },
  {
   "cell_type": "code",
   "execution_count": null,
   "id": "4027d6e5",
   "metadata": {},
   "outputs": [],
   "source": [
    "cnt= 0\n",
    "\n",
    "def traitement(tweet): ## le traitement de chaque tweet\n",
    "    global cnt\n",
    "    if 'lang' in tweet:\n",
    "        if tweet['lang'] == 'fr': ## la langue est le français\n",
    "            print(tweet['text'])\n",
    "            cnt = cnt + 1\n",
    "\n",
    "parcours_tweet(range(5,6), range(18,19))\n",
    "print(\"Il y a \", cnt, 'tweets.')"
   ]
  },
  {
   "cell_type": "markdown",
   "id": "6c5664a3",
   "metadata": {},
   "source": [
    "Vous pouvez modifier le code ci-dessus pour faire d'autres recherche..."
   ]
  },
  {
   "cell_type": "markdown",
   "id": "eebfc387",
   "metadata": {},
   "source": [
    "### Opinion politique et niveau socio-économique\n",
    "On va maintenant voir si ces données peuvent nous indiquer des différences statistiques entre les personnes mentionnant Trump et celles mentionnant Biden. Comme les iPhones sont en général plus chers que les téléphones Android, la proportion de tweets émis par des iPhones peut nous donner une indication sur le niveau socio-économique des auteurs d'une certain classe de tweet. On va donc voir si les tweet mentionnant Biden sont plus souvent émis à partir d'iPhone que les tweet mentionnant Trump. Cela pourrait être le cas, si Biden a plus de soutien dans les classes plus favorisées de la société."
   ]
  },
  {
   "cell_type": "code",
   "execution_count": null,
   "id": "bb9618c3",
   "metadata": {},
   "outputs": [],
   "source": [
    "# initialisation des compteurs a 0\n",
    "biden_ios = 0\n",
    "biden_android = 0\n",
    "trump_ios = 0\n",
    "trump_android = 0\n",
    "\n",
    "def traitement(tweet): ## le traitement de chaque tweet\n",
    "    global biden_ios, biden_android, trump_ios, trump_android\n",
    "    if 'text' in tweet and 'source' in tweet:\n",
    "        if \"Biden\" in tweet['text'] and not \"Trump\" in tweet['text']: ## mentionne Biden mais pas Trump\n",
    "            if 'iPhone' in tweet['source']:\n",
    "                biden_ios += 1\n",
    "            if 'Android' in tweet['source']:\n",
    "                biden_android += 1\n",
    "        if not \"Biden\" in tweet['text'] and \"Trump\" in tweet['text']: ## mentionne Trump mais pas Biden\n",
    "            if 'iPhone' in tweet['source']:\n",
    "                trump_ios += 1\n",
    "            if 'Android' in tweet['source']:\n",
    "                trump_android += 1\n",
    "\n",
    "\n",
    "parcours_tweet(range(4,5), range(18,19))\n",
    "trump_ios_ratio = trump_ios/(trump_ios+trump_android)\n",
    "biden_ios_ratio = biden_ios/(biden_ios+biden_android)\n",
    "print(\"Trump: {:.2%} des tweets le mentionnant proviennent d'un iPhone\".format(trump_ios_ratio))\n",
    "print(\"Biden: {:.2%} des tweets le mentionnant proviennent d'un iPhone\".format(biden_ios_ratio))"
   ]
  },
  {
   "cell_type": "markdown",
   "id": "8f07cda3",
   "metadata": {},
   "source": [
    "Que pensez-vous de ce résultat? Est-ce que cela vous paraît concluant? Quelles sont les limites de cette analyse? "
   ]
  },
  {
   "cell_type": "markdown",
   "id": "0e07e4f8",
   "metadata": {},
   "source": [
    "### Popularité de tweets\n",
    "On va regarder les retweets les plus fréquents pendant cette heure"
   ]
  },
  {
   "cell_type": "code",
   "execution_count": null,
   "id": "e0dbb896",
   "metadata": {
    "scrolled": true
   },
   "outputs": [],
   "source": [
    "cnt= 0\n",
    "idcount = collections.defaultdict(int)\n",
    "\n",
    "def traitement(tweet): ## le traitement de chaque tweet\n",
    "    if \"retweeted_status\" in tweet:\n",
    "        if tweet['retweeted_status']['retweet_count'] > 10000:\n",
    "            if 'id' in tweet['retweeted_status']:\n",
    "                idcount[tweet['retweeted_status']['id']] += 1\n",
    "\n",
    "parcours_tweet(range(4,5), range(18,19))\n",
    "vals = sorted(list(idcount.values()))\n",
    "retweetid = [k for k in idcount.keys() if idcount[k] in  vals[-10:]]\n",
    "print(retweetid)"
   ]
  },
  {
   "cell_type": "markdown",
   "id": "743ed531",
   "metadata": {},
   "source": [
    "On va maintenant regarder à quoi correspondent ces tweets: "
   ]
  },
  {
   "cell_type": "code",
   "execution_count": null,
   "id": "3fe43ef7-640b-4611-8661-727ff88312f4",
   "metadata": {
    "scrolled": true
   },
   "outputs": [],
   "source": [
    "dejavu = set()\n",
    "\n",
    "def traitement(tweet): ## le traitement de chaque tweet\n",
    "    global interruption\n",
    "    if \"retweeted_status\" in tweet:\n",
    "        if 'id' in tweet['retweeted_status']:\n",
    "            if tweet['retweeted_status']['id'] in retweetid:\n",
    "                if tweet['retweeted_status']['id'] not in dejavu:\n",
    "                    print(tweet['retweeted_status']['id'], \":\", tweet['retweeted_status']['text'] )\n",
    "                    dejavu.add(tweet['retweeted_status']['id'])\n",
    "                    if len(dejavu) == len(retweetid):\n",
    "                        interruption = True\n",
    "                    \n",
    "parcours_tweet(range(4,5), range(18,19))"
   ]
  },
  {
   "cell_type": "markdown",
   "id": "cfc59805",
   "metadata": {},
   "source": [
    "On va maintenant prendre les retweet les plus fréquents sur le 4 et 5 novembre et compter pour chaque heure combien de fois ils ont été retweetés. Puis on va en faire un graphique."
   ]
  },
  {
   "cell_type": "code",
   "execution_count": null,
   "id": "18d5cf8d",
   "metadata": {},
   "outputs": [],
   "source": [
    "datadir ='../data/2020d/'\n",
    "timeline = {}\n",
    "timeidx = 0\n",
    "shortlist = [1323857811734933504, 1323879858485821440, 1324003503526694914, 1324125650630766592, 1324198817076441089, 1324251847478173701, 1324365921452912640, 1324372378672156674, 1324347819281534979, 1324439705522524162]\n",
    "texts = {}\n",
    "for idx in shortlist:\n",
    "    timeline[idx] = []\n",
    "    \n",
    "for day in range(4,6):\n",
    "    for hour in range(24):\n",
    "        for idx in shortlist:\n",
    "                timeline[idx].append(0)\n",
    "        for minute in range(0,60,3): #pour gagner du temps, on ne prend qu'une minute sur trois.\n",
    "            fname = datadir+ \"11/\" + format(day,'02d')+ \"/\" + format(hour,'02d') + \"/\" + format(minute,'02d')+\".json\"\n",
    "            print(fname, end=\"\")\n",
    "            if os.path.isfile(fname):\n",
    "                print(\" - open\")\n",
    "                with open (fname) as f:\n",
    "                    for line in f:\n",
    "                        tweet = json.loads(line)\n",
    "                        if 'retweeted_status' in tweet:\n",
    "                                if 'id' in tweet['retweeted_status']:\n",
    "                                    if tweet['retweeted_status']['id'] in shortlist:\n",
    "                                        timeline[tweet['retweeted_status']['id']][timeidx] += 1\n",
    "                                        if tweet['retweeted_status']['id'] not in texts.keys():\n",
    "                                            texts[tweet['retweeted_status']['id']] = tweet['retweeted_status']['text'] + ' - ' + tweet['retweeted_status']['user']['name']\n",
    "            else:\n",
    "                print(\"\")\n",
    "        timeidx += 1"
   ]
  },
  {
   "cell_type": "markdown",
   "id": "d2d3d7b0-757a-4aa9-8a3d-91854f906967",
   "metadata": {},
   "source": [
    "Maintenant qu'on a compté les retweet, on va dessiner le graphique et montrer le texte et les auteurs ou autrices des tweets."
   ]
  },
  {
   "cell_type": "code",
   "execution_count": null,
   "id": "c62e6ddd-4362-42f7-85a7-1c7d0d731bfb",
   "metadata": {},
   "outputs": [],
   "source": [
    "import matplotlib.pyplot as plt\n",
    "\n",
    "for k in timeline.keys():\n",
    "    plt.plot(timeline[k], label=texts[k])\n",
    "plt.legend(loc='center left', bbox_to_anchor=(1, 0.5))\n",
    "plt.ylim([0, 30])\n",
    "plt.xlabel(\"Heures\")\n",
    "plt.ylabel(\"Nombre de retweets\")\n",
    "plt.show()\n",
    "for k in texts:\n",
    "    print(texts[k])"
   ]
  },
  {
   "cell_type": "markdown",
   "id": "a129b7d0",
   "metadata": {},
   "source": [
    "Quels sont les sujets qui sont les plus populaires dans ce jeu de données? "
   ]
  },
  {
   "cell_type": "code",
   "execution_count": null,
   "id": "6c3a479b",
   "metadata": {},
   "outputs": [],
   "source": []
  }
 ],
 "metadata": {
  "celltoolbar": "Format de la Cellule Texte Brut",
  "kernelspec": {
   "display_name": "Python 3",
   "language": "python",
   "name": "python3"
  },
  "language_info": {
   "codemirror_mode": {
    "name": "ipython",
    "version": 3
   },
   "file_extension": ".py",
   "mimetype": "text/x-python",
   "name": "python",
   "nbconvert_exporter": "python",
   "pygments_lexer": "ipython3",
   "version": "3.8.8"
  }
 },
 "nbformat": 4,
 "nbformat_minor": 5
}
